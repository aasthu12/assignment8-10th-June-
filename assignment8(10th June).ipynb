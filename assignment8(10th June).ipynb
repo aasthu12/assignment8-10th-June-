{
 "cells": [
  {
   "cell_type": "code",
   "execution_count": null,
   "id": "9487a5ca",
   "metadata": {},
   "outputs": [],
   "source": [
    "'''Q1In Python, what is the difference between a built-in function and a user-defined function? Provide an\n",
    "example of each.\n",
    "A1.  User defined Functions - \n",
    "\n",
    "they are made by the programmer for a specific task . user defined functions are a way to make the code reusable and structured.\n",
    "they are made by using the def keyword.\n",
    "\n",
    "\n",
    "In built functions - \n",
    "\n",
    "Python has a variety of libraries which contain various in built functions. They are pre defined functions used to perform \n",
    "commonly occuring tasks. They do not need to be defined by the programmer'''\n"
   ]
  },
  {
   "cell_type": "code",
   "execution_count": 1,
   "id": "40693114",
   "metadata": {},
   "outputs": [
    {
     "name": "stdout",
     "output_type": "stream",
     "text": [
      "1\n"
     ]
    }
   ],
   "source": [
    "#in built function\n",
    "\n",
    "a=[1,2,3,4,5,6,7,8,9]\n",
    "minimum=min(a) #min is an in built function\n",
    "print(minimum)"
   ]
  },
  {
   "cell_type": "code",
   "execution_count": 2,
   "id": "2b0ca558",
   "metadata": {},
   "outputs": [
    {
     "data": {
      "text/plain": [
       "19"
      ]
     },
     "execution_count": 2,
     "metadata": {},
     "output_type": "execute_result"
    }
   ],
   "source": [
    "#user defined function\n",
    "\n",
    "def addition(a,b):\n",
    "    total=a+b\n",
    "    return(total)\n",
    "addition(9,10)\n"
   ]
  },
  {
   "cell_type": "code",
   "execution_count": null,
   "id": "c4a782f1",
   "metadata": {},
   "outputs": [],
   "source": [
    "'''Q2.How can you pass arguments to a function in Python? Explain the difference between positional\n",
    "arguments and keyword arguments.\n",
    "A2. We can pass arguments to a function in 2 ways - positional arguments and keyword arguments.\n",
    "\n",
    "positional arguments - \n",
    "\n",
    "positional arguments are based on the order in which they are called and get assigned to the parameters accordingly.\n",
    "Therefore , the datatype or number of arguments should match the parameters.\n",
    "\n",
    "Example\n",
    "\n",
    "def add(a, b):\n",
    "    \"\"\"This function adds two numbers.\"\"\"\n",
    "    result = a + b\n",
    "    print(\"Sum:\", result)\n",
    "\n",
    "# Call the function with positional arguments\n",
    "add(5, 7)\n",
    "\n",
    "\n",
    "Keyword Arguments - \n",
    "\n",
    "Keyword arguments are given my mentioning the name of the parameter while passign the argument.\n",
    "Therefore the order in which keyword arguments are given does not matter.\n",
    "\n",
    "\n",
    "Example-\n",
    "\n",
    "\n",
    "\n",
    "def greet(name, age):\n",
    "    \"\"\"This function greets a person with their name and age.\"\"\"\n",
    "    print(\"Hello, {}! You are {} years old.\".format(name, age))\n",
    "\n",
    "# Call the function with keyword arguments\n",
    "greet(name=\"Aastha\", age=27)'''"
   ]
  },
  {
   "cell_type": "code",
   "execution_count": 3,
   "id": "a3cf1d18",
   "metadata": {},
   "outputs": [
    {
     "data": {
      "text/plain": [
       "2"
      ]
     },
     "execution_count": 3,
     "metadata": {},
     "output_type": "execute_result"
    }
   ],
   "source": [
    "'''Q3.What is the purpose of the return statement in a function? Can a function have multiple return\n",
    "statements? Explain with an example.\n",
    "\n",
    "A3 The return statement specifies the value that a function would produce or output. When a return statement is executed,\n",
    "the function is exited.\n",
    "\n",
    "Therefore even if we do write multiple return statements in a function , the code will be executed only till the first\n",
    "return statement is executed after which the interpreter will exit the function.'''\n",
    "\n",
    "#Example\n",
    "\n",
    "def multiply(a,b,c):\n",
    "    p1=a*b\n",
    "    return(p1)\n",
    "    p2=p1*c\n",
    "    return(p2)\n",
    "multiply(1,2,3)"
   ]
  },
  {
   "cell_type": "code",
   "execution_count": null,
   "id": "3b7e8cc4",
   "metadata": {},
   "outputs": [],
   "source": [
    "'''Q4.What are lambda functions in Python? How are they different from regular functions? Provide an\n",
    "example where a lambda function can be useful.\n",
    "A4. Lambda functions are anonymous function which we create using the lambda keyword. They are not defined by def keyword\n",
    "They are used to perform simple and short operations\n",
    "\n",
    "The syntax for lambda function :\n",
    "function_name=lambda arguments: expression\n",
    "\n",
    "Example:\n",
    "\n",
    "add = lambda x, y: x + y\n",
    "\n",
    "# Call the lambda function\n",
    "result = add(3, 5)\n",
    "\n",
    "print(\"Result:\", result)\n",
    "'''"
   ]
  },
  {
   "cell_type": "code",
   "execution_count": null,
   "id": "c7cc7a95",
   "metadata": {},
   "outputs": [],
   "source": [
    "'''Q5.How does the concept of \"scope\" apply to functions in Python? Explain the difference between local\n",
    "scope and global scope.\n",
    "A5. Scope refers to the area of a program where a particular identifier can be accessed or modified.\n",
    "It depends upon the place where that identifier has been declared.\n",
    "\n",
    "Local scope:\n",
    "Variables which are defined inside a function are said to have a local scope. They can be accessed only within that function.\n",
    "once the work of a function is completed, the local variables are destroyed and can no longer be used.\n",
    "\n",
    "example:\n",
    "def my_function():\n",
    "    # This variable 'x' has local scope\n",
    "    x = 10\n",
    "    print(\"Inside the function:\", x)\n",
    "\n",
    "my_function()\n",
    "# Trying to access 'x' outside the function would result in an error\n",
    "# print(\"Outside the function:\", x)  # This would raise an error\n",
    "\n",
    "Global scope :\n",
    "Variables or other identifiers which are defined outside any function or code block are considered to have global scope.\n",
    "They can be accessed and modified throughout the entire program.\n",
    "\n",
    "example:\n",
    "# This variable 'y' has global scope\n",
    "y = 20\n",
    "\n",
    "def another_function():\n",
    "    print(\"Inside another_function:\", y)\n",
    "\n",
    "another_function()\n",
    "# Accessing 'y' outside the function is allowed\n",
    "print(\"Outside another_function:\", y)\n",
    "\n",
    "'''"
   ]
  },
  {
   "cell_type": "code",
   "execution_count": null,
   "id": "d3708474",
   "metadata": {},
   "outputs": [],
   "source": [
    "'''Q6.How can you use the \"return\" statement in a Python function to return multiple values?\n",
    "A6. There are multiple ways in which we can use return statement to return multiple values.\n",
    "\n",
    "We can either make a list or tuple within a function so as to return multiple values.\n",
    "\n",
    "example\n",
    "\n",
    "def get_sum_and_product(a, b):\n",
    "    \"\"\"This function returns the sum and product of two numbers.\"\"\"\n",
    "    sum_result = a + b\n",
    "    product_result = a * b\n",
    "    return sum_result, product_result\n",
    "\n",
    "# Call the function and receive the returned values as a tuple\n",
    "result_tuple = get_sum_and_product(3, 4)\n",
    "sum_value, product_value = result_tuple\n",
    "\n",
    "print(\"Sum:\", sum_value)\n",
    "print(\"Product:\", product_value)\n",
    "'''"
   ]
  },
  {
   "cell_type": "code",
   "execution_count": null,
   "id": "38cd589f",
   "metadata": {},
   "outputs": [],
   "source": [
    "'''Q7.What is the difference between the \"pass by value\" and \"pass by reference\" concepts when it\n",
    "comes to function arguments in Python?'''"
   ]
  },
  {
   "cell_type": "code",
   "execution_count": null,
   "id": "60b709c1",
   "metadata": {},
   "outputs": [],
   "source": [
    "'''Q8Create a function that can intake integer or decimal value and do following operations:\n",
    "a. Logarithmic function (log x)\n",
    "b. Exponential function (exp(x))\n",
    "c. Power function with base 2 (2\n",
    "x\n",
    ")\n",
    "\n",
    "d. Square root'''\n"
   ]
  },
  {
   "cell_type": "code",
   "execution_count": 6,
   "id": "88c45282",
   "metadata": {},
   "outputs": [
    {
     "name": "stdout",
     "output_type": "stream",
     "text": [
      "Logarithmic function (log x): 1.3862943611198906\n",
      "Exponential function (exp(x)): 54.598150033144236\n",
      "Power function with base 2 (2^x): 16.0\n",
      "Square root: 2.0\n"
     ]
    }
   ],
   "source": [
    "import math\n",
    "\n",
    "def math_operations(x):\n",
    "    \n",
    "    results = {'logarithmic':math.log(x),'exponential': math.exp(x),'power_base_2': 2 ** x,'square_root': math.sqrt(x)}\n",
    "    \n",
    "    return results\n",
    "\n",
    "input_value = 4.0  \n",
    "results_dict = math_operations(input_value)\n",
    "\n",
    "print(f\"Logarithmic function (log x): {results_dict['logarithmic']}\")\n",
    "print(f\"Exponential function (exp(x)): {results_dict['exponential']}\")\n",
    "print(f\"Power function with base 2 (2^x): {results_dict['power_base_2']}\")\n",
    "print(f\"Square root: {results_dict['square_root']}\")\n"
   ]
  },
  {
   "cell_type": "code",
   "execution_count": null,
   "id": "a5584d8b",
   "metadata": {},
   "outputs": [],
   "source": [
    "'''Q9.Create a function that takes a full name as an argument and returns first name and last name.\n",
    "A9.'''"
   ]
  },
  {
   "cell_type": "code",
   "execution_count": 14,
   "id": "098a76cd",
   "metadata": {},
   "outputs": [
    {
     "name": "stdout",
     "output_type": "stream",
     "text": [
      "Full Name: Aastha Tyagi\n",
      "First Name: Aastha\n",
      "Last Name: Tyagi\n"
     ]
    }
   ],
   "source": [
    "def extract_first_last_name(full_name):\n",
    "\n",
    "    names = full_name.split()\n",
    "    first_name = names[0] \n",
    "    last_name = names[-1] if len(names) > 1 else None\n",
    "    return first_name, last_name\n",
    "\n",
    "\n",
    "full_name_1= \"Aastha Tyagi\"\n",
    "first_name_result, last_name_result = extract_first_last_name(full_name_1)\n",
    "\n",
    "# Print the results\n",
    "print(f\"Full Name: {full_name_1}\")\n",
    "print(f\"First Name: {first_name_result}\")\n",
    "print(f\"Last Name: {last_name_result}\")\n"
   ]
  },
  {
   "cell_type": "code",
   "execution_count": 11,
   "id": "021e3416",
   "metadata": {},
   "outputs": [],
   "source": [
    "\n"
   ]
  },
  {
   "cell_type": "code",
   "execution_count": null,
   "id": "dcb15564",
   "metadata": {},
   "outputs": [],
   "source": []
  },
  {
   "cell_type": "code",
   "execution_count": null,
   "id": "ba6da491",
   "metadata": {},
   "outputs": [],
   "source": []
  }
 ],
 "metadata": {
  "kernelspec": {
   "display_name": "Python 3 (ipykernel)",
   "language": "python",
   "name": "python3"
  },
  "language_info": {
   "codemirror_mode": {
    "name": "ipython",
    "version": 3
   },
   "file_extension": ".py",
   "mimetype": "text/x-python",
   "name": "python",
   "nbconvert_exporter": "python",
   "pygments_lexer": "ipython3",
   "version": "3.10.9"
  }
 },
 "nbformat": 4,
 "nbformat_minor": 5
}
